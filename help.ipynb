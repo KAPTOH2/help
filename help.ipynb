{
 "cells": [
  {
   "cell_type": "code",
   "execution_count": null,
   "id": "ce3dacfc-235b-43d2-8489-41655b6c5088",
   "metadata": {},
   "outputs": [],
   "source": [
    "#карта мир\n",
    "#начало оставляется\n",
    "x = int(input())\n",
    "if (x[:2] in fd) and len(x) == 16:\n",
    "    print(just_mit)\n",
    "elif len(x) > 16:\n",
    "    print(no_card)\n",
    "else:\n",
    "    print(visa_mastercard)"
   ]
  },
  {
   "cell_type": "code",
   "execution_count": null,
   "id": "260c98fb-1418-4821-ad7f-a4e7373951c8",
   "metadata": {},
   "outputs": [],
   "source": [
    "#страны с индексом от 7 до 8\n",
    "z = list()\n",
    "while True:\n",
    "    x = input()\n",
    "    if x == 'END':\n",
    "        break\n",
    "    x = x.split(' ')\n",
    "    if (float(x[1]) > 7) and (float(x[1]) < 8):\n",
    "        z.append(x[0])\n",
    "print(z)"
   ]
  },
  {
   "cell_type": "code",
   "execution_count": null,
   "id": "fa6da543-6f68-4c41-868f-742ef507f953",
   "metadata": {},
   "outputs": [],
   "source": [
    "#добавление имени сталин\n",
    "x = input().split(', ')\n",
    "y = input()\n",
    "if y in x:\n",
    "    print(tuple(x))\n",
    "else:\n",
    "    x.append(y)\n",
    "    print(tuple(x))"
   ]
  },
  {
   "cell_type": "code",
   "execution_count": 13,
   "id": "e0b0a56d-3be8-469e-9dc4-d6074137e072",
   "metadata": {},
   "outputs": [
    {
     "name": "stdin",
     "output_type": "stream",
     "text": [
      " к, п, р, о, л, д , п, а\n",
      " 1, 2, 3, 4.05, 5, 6.60, 7, 8\n",
      " 7\n"
     ]
    },
    {
     "name": "stdout",
     "output_type": "stream",
     "text": [
      "к\n",
      "п\n",
      "р\n",
      "о\n",
      "л\n",
      "д \n"
     ]
    }
   ],
   "source": [
    "#вывод с доходами\n",
    "x = input().split(', ')\n",
    "y = input().split(', ')\n",
    "u = float(input())\n",
    "for i in range(len(x)):\n",
    "    if float(y[i]) < u:\n",
    "        print(x[i])"
   ]
  },
  {
   "cell_type": "code",
   "execution_count": 15,
   "id": "c614b52f-46c9-40b1-9912-72093787d377",
   "metadata": {},
   "outputs": [
    {
     "name": "stdin",
     "output_type": "stream",
     "text": [
      " ро мо\n",
      " ит фр\n"
     ]
    },
    {
     "name": "stdout",
     "output_type": "stream",
     "text": [
      "2\n"
     ]
    }
   ],
   "source": [
    "#завоевать империи А и В\n",
    "x = set(input().split(' '))\n",
    "y = set(input().split(' '))\n",
    "print(len(x-y))"
   ]
  },
  {
   "cell_type": "code",
   "execution_count": 25,
   "id": "270050df-7de2-4132-b865-aa1c8d6d95c0",
   "metadata": {},
   "outputs": [
    {
     "name": "stdin",
     "output_type": "stream",
     "text": [
      " ча,фе\n",
      " че,ку\n",
      " фе\n"
     ]
    },
    {
     "name": "stdout",
     "output_type": "stream",
     "text": [
      "3\n"
     ]
    }
   ],
   "source": [
    "#Книги в бибилиотек\n",
    "x = set(input().split(','))\n",
    "y = set(input().split(','))\n",
    "z = set(input().split(','))\n",
    "print(len((x|y)-z))"
   ]
  },
  {
   "cell_type": "code",
   "execution_count": 17,
   "id": "bc8a329c-8638-4df4-b721-db69d7881bc3",
   "metadata": {},
   "outputs": [
    {
     "ename": "SyntaxError",
     "evalue": "invalid syntax (1613240595.py, line 3)",
     "output_type": "error",
     "traceback": [
      "\u001b[1;36m  Cell \u001b[1;32mIn[17], line 3\u001b[1;36m\u001b[0m\n\u001b[1;33m    print(x not & y)\u001b[0m\n\u001b[1;37m                ^\u001b[0m\n\u001b[1;31mSyntaxError\u001b[0m\u001b[1;31m:\u001b[0m invalid syntax\n"
     ]
    }
   ],
   "source": [
    "#баллы у команд\n",
    "#начало оставляется\n",
    "y = int(input())\n",
    "for i in results.keys():\n",
    "    if sum(results[i]) < y:\n",
    "        print(i)"
   ]
  },
  {
   "cell_type": "code",
   "execution_count": null,
   "id": "9a8e31bd-59ae-4cbd-8fd3-35969667e63d",
   "metadata": {},
   "outputs": [],
   "source": [
    "#количесвто городов в стране\n",
    "#начало оставляется\n",
    "y = input()\n",
    "if y in cities.keys():\n",
    "    print(len(cities[y])\n",
    "else:\n",
    "    print('Такой страны нет')"
   ]
  },
  {
   "cell_type": "code",
   "execution_count": 32,
   "id": "34045adf-2498-4970-be2f-187f0bc04585",
   "metadata": {},
   "outputs": [
    {
     "name": "stdin",
     "output_type": "stream",
     "text": [
      " пи-600\n",
      " из-1200\n",
      " пи-700\n",
      " пи-680\n",
      " из-1300\n",
      " СТОП\n"
     ]
    },
    {
     "name": "stdout",
     "output_type": "stream",
     "text": [
      "пи 660.0\n"
     ]
    }
   ],
   "source": [
    "#поиск дешевой средней цены\n",
    "z = dict()\n",
    "while True:\n",
    "    x = input()\n",
    "    if x == 'СТОП':\n",
    "        break\n",
    "    x = x.split('-')\n",
    "    if x[0] in z.keys():\n",
    "        z[x[0]].append(float(x[1]))\n",
    "    elif x[0] not in z.keys():\n",
    "        z[x[0]] = [float(x[1])]\n",
    "for i in z.keys():\n",
    "    z[i] = sum(z[i])/len(z[i])\n",
    "minim = min(z.values())\n",
    "for i in z.keys():\n",
    "    if z[i] == minim:\n",
    "        print(i,minim)"
   ]
  },
  {
   "cell_type": "code",
   "execution_count": 38,
   "id": "ee0b6a51-d0e6-454f-8f81-9170412e5a67",
   "metadata": {},
   "outputs": [
    {
     "name": "stdin",
     "output_type": "stream",
     "text": [
      " 1499 1500 1501\n",
      " 15\n"
     ]
    },
    {
     "name": "stdout",
     "output_type": "stream",
     "text": [
      "1\n"
     ]
    }
   ],
   "source": [
    "#вывести количество неверных лет\n",
    "x = input().split(' ')\n",
    "y = int(input())\n",
    "z = 0\n",
    "y_t = (y*100) - 99\n",
    "y_y = (y*100)\n",
    "for i in x:\n",
    "    if (int(i) > y_y) or (int(i) < y_t):\n",
    "        z +=1\n",
    "print(z)\n",
    "        "
   ]
  },
  {
   "cell_type": "code",
   "execution_count": 43,
   "id": "636876f9-446c-4b37-8773-fd7ee1f2adca",
   "metadata": {},
   "outputs": [
    {
     "name": "stdin",
     "output_type": "stream",
     "text": [
      " GBN\n",
      " gbn\n",
      " Gbn\n",
      " END\n"
     ]
    },
    {
     "name": "stdout",
     "output_type": "stream",
     "text": [
      "['gbn']\n"
     ]
    }
   ],
   "source": [
    "#только низкие\n",
    "z = list()\n",
    "while True:\n",
    "    x = input()\n",
    "    if x == 'END':\n",
    "        break\n",
    "    if x.islower() == True:\n",
    "        z.append(x)\n",
    "print(z)"
   ]
  },
  {
   "cell_type": "code",
   "execution_count": 46,
   "id": "e3ec4a8a-1f55-4296-9b0c-44d37a300c13",
   "metadata": {},
   "outputs": [
    {
     "name": "stdin",
     "output_type": "stream",
     "text": [
      " помидор ка пир до\n",
      " по\n"
     ]
    },
    {
     "name": "stdout",
     "output_type": "stream",
     "text": [
      "99\n"
     ]
    }
   ],
   "source": [
    "#индекс слова в строке\n",
    "x = input().split(' ')\n",
    "y = input()\n",
    "if y not in x:\n",
    "    print(99)\n",
    "else:\n",
    "    for i in range(len(x)):\n",
    "        if x[i] == y:\n",
    "            print(i+1)\n",
    "        \n",
    "                  "
   ]
  },
  {
   "cell_type": "code",
   "execution_count": 47,
   "id": "b3437a1c-f25f-451c-86d3-147b23cc6d0f",
   "metadata": {},
   "outputs": [
    {
     "ename": "KeyboardInterrupt",
     "evalue": "Interrupted by user",
     "output_type": "error",
     "traceback": [
      "\u001b[1;31m---------------------------------------------------------------------------\u001b[0m",
      "\u001b[1;31mKeyboardInterrupt\u001b[0m                         Traceback (most recent call last)",
      "Cell \u001b[1;32mIn[47], line 2\u001b[0m\n\u001b[0;32m      1\u001b[0m \u001b[38;5;66;03m#курсы офлайн\u001b[39;00m\n\u001b[1;32m----> 2\u001b[0m x \u001b[38;5;241m=\u001b[39m \u001b[38;5;28;43minput\u001b[39;49m\u001b[43m(\u001b[49m\u001b[43m)\u001b[49m\u001b[38;5;241m.\u001b[39msplit(\u001b[38;5;124m'\u001b[39m\u001b[38;5;124m|\u001b[39m\u001b[38;5;124m'\u001b[39m)\n\u001b[0;32m      3\u001b[0m y \u001b[38;5;241m=\u001b[39m \u001b[38;5;28minput\u001b[39m()\n\u001b[0;32m      4\u001b[0m z \u001b[38;5;241m=\u001b[39m \u001b[38;5;241m0\u001b[39m\n",
      "File \u001b[1;32m~\\AppData\\Local\\Programs\\Python\\Python312\\Lib\\site-packages\\ipykernel\\kernelbase.py:1282\u001b[0m, in \u001b[0;36mKernel.raw_input\u001b[1;34m(self, prompt)\u001b[0m\n\u001b[0;32m   1280\u001b[0m     msg \u001b[38;5;241m=\u001b[39m \u001b[38;5;124m\"\u001b[39m\u001b[38;5;124mraw_input was called, but this frontend does not support input requests.\u001b[39m\u001b[38;5;124m\"\u001b[39m\n\u001b[0;32m   1281\u001b[0m     \u001b[38;5;28;01mraise\u001b[39;00m StdinNotImplementedError(msg)\n\u001b[1;32m-> 1282\u001b[0m \u001b[38;5;28;01mreturn\u001b[39;00m \u001b[38;5;28;43mself\u001b[39;49m\u001b[38;5;241;43m.\u001b[39;49m\u001b[43m_input_request\u001b[49m\u001b[43m(\u001b[49m\n\u001b[0;32m   1283\u001b[0m \u001b[43m    \u001b[49m\u001b[38;5;28;43mstr\u001b[39;49m\u001b[43m(\u001b[49m\u001b[43mprompt\u001b[49m\u001b[43m)\u001b[49m\u001b[43m,\u001b[49m\n\u001b[0;32m   1284\u001b[0m \u001b[43m    \u001b[49m\u001b[38;5;28;43mself\u001b[39;49m\u001b[38;5;241;43m.\u001b[39;49m\u001b[43m_parent_ident\u001b[49m\u001b[43m[\u001b[49m\u001b[38;5;124;43m\"\u001b[39;49m\u001b[38;5;124;43mshell\u001b[39;49m\u001b[38;5;124;43m\"\u001b[39;49m\u001b[43m]\u001b[49m\u001b[43m,\u001b[49m\n\u001b[0;32m   1285\u001b[0m \u001b[43m    \u001b[49m\u001b[38;5;28;43mself\u001b[39;49m\u001b[38;5;241;43m.\u001b[39;49m\u001b[43mget_parent\u001b[49m\u001b[43m(\u001b[49m\u001b[38;5;124;43m\"\u001b[39;49m\u001b[38;5;124;43mshell\u001b[39;49m\u001b[38;5;124;43m\"\u001b[39;49m\u001b[43m)\u001b[49m\u001b[43m,\u001b[49m\n\u001b[0;32m   1286\u001b[0m \u001b[43m    \u001b[49m\u001b[43mpassword\u001b[49m\u001b[38;5;241;43m=\u001b[39;49m\u001b[38;5;28;43;01mFalse\u001b[39;49;00m\u001b[43m,\u001b[49m\n\u001b[0;32m   1287\u001b[0m \u001b[43m\u001b[49m\u001b[43m)\u001b[49m\n",
      "File \u001b[1;32m~\\AppData\\Local\\Programs\\Python\\Python312\\Lib\\site-packages\\ipykernel\\kernelbase.py:1325\u001b[0m, in \u001b[0;36mKernel._input_request\u001b[1;34m(self, prompt, ident, parent, password)\u001b[0m\n\u001b[0;32m   1322\u001b[0m \u001b[38;5;28;01mexcept\u001b[39;00m \u001b[38;5;167;01mKeyboardInterrupt\u001b[39;00m:\n\u001b[0;32m   1323\u001b[0m     \u001b[38;5;66;03m# re-raise KeyboardInterrupt, to truncate traceback\u001b[39;00m\n\u001b[0;32m   1324\u001b[0m     msg \u001b[38;5;241m=\u001b[39m \u001b[38;5;124m\"\u001b[39m\u001b[38;5;124mInterrupted by user\u001b[39m\u001b[38;5;124m\"\u001b[39m\n\u001b[1;32m-> 1325\u001b[0m     \u001b[38;5;28;01mraise\u001b[39;00m \u001b[38;5;167;01mKeyboardInterrupt\u001b[39;00m(msg) \u001b[38;5;28;01mfrom\u001b[39;00m \u001b[38;5;28;01mNone\u001b[39;00m\n\u001b[0;32m   1326\u001b[0m \u001b[38;5;28;01mexcept\u001b[39;00m \u001b[38;5;167;01mException\u001b[39;00m:\n\u001b[0;32m   1327\u001b[0m     \u001b[38;5;28mself\u001b[39m\u001b[38;5;241m.\u001b[39mlog\u001b[38;5;241m.\u001b[39mwarning(\u001b[38;5;124m\"\u001b[39m\u001b[38;5;124mInvalid Message:\u001b[39m\u001b[38;5;124m\"\u001b[39m, exc_info\u001b[38;5;241m=\u001b[39m\u001b[38;5;28;01mTrue\u001b[39;00m)\n",
      "\u001b[1;31mKeyboardInterrupt\u001b[0m: Interrupted by user"
     ]
    }
   ],
   "source": [
    "#курсы офлайн\n",
    "x = input().split('|')\n",
    "y = input()\n",
    "z = 0\n",
    "for i in x:\n",
    "    if i.split(';')[2] == y:\n",
    "        z+=1\n",
    "print(z)"
   ]
  },
  {
   "cell_type": "code",
   "execution_count": null,
   "id": "eddad06b-56db-4657-a49d-c7466adc79b3",
   "metadata": {},
   "outputs": [],
   "source": [
    "#Доходы и расходы\n",
    "b = {}\n",
    "while True:\n",
    "    x = input()\n",
    "    if x == 'КОНЕЦ':\n",
    "        break\n",
    "    x = x.split(', ')\n",
    "    b[x[1]] = int(x[0].split('_')[0]) - int(x[0].split('_')[1])\n",
    "m = max(b.values())\n",
    "for i in b.keys():\n",
    "    if b[i] == m:\n",
    "        print(i)"
   ]
  },
  {
   "cell_type": "code",
   "execution_count": null,
   "id": "95d4ae7b-e713-48d2-830a-3facd2a8b0f3",
   "metadata": {},
   "outputs": [],
   "source": [
    "#любимый десерт\n",
    "#начало оставляется\n",
    "x = input()\n",
    "z = []\n",
    "for i in fav_desserts.keys():\n",
    "    if x in fav_desserts[i]:\n",
    "        z.append(i)\n",
    "print(len(set(z))"
   ]
  }
 ],
 "metadata": {
  "kernelspec": {
   "display_name": "Python 3 (ipykernel)",
   "language": "python",
   "name": "python3"
  },
  "language_info": {
   "codemirror_mode": {
    "name": "ipython",
    "version": 3
   },
   "file_extension": ".py",
   "mimetype": "text/x-python",
   "name": "python",
   "nbconvert_exporter": "python",
   "pygments_lexer": "ipython3",
   "version": "3.12.3"
  }
 },
 "nbformat": 4,
 "nbformat_minor": 5
}
